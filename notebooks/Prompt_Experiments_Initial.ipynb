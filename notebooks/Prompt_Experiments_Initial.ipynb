{
  "nbformat": 4,
  "nbformat_minor": 0,
  "metadata": {
    "colab": {
      "provenance": []
    },
    "kernelspec": {
      "name": "python3",
      "display_name": "Python 3"
    },
    "language_info": {
      "name": "python"
    }
  },
  "cells": [
    {
      "cell_type": "code",
      "execution_count": 6,
      "metadata": {
        "colab": {
          "base_uri": "https://localhost:8080/"
        },
        "id": "z9xsOWWOmOtG",
        "outputId": "247efa2c-f9cf-4464-fb4d-467222d69d57"
      },
      "outputs": [
        {
          "output_type": "stream",
          "name": "stdout",
          "text": [
            "Requirement already satisfied: openai in /usr/local/lib/python3.10/dist-packages (0.27.10)\n",
            "Requirement already satisfied: requests>=2.20 in /usr/local/lib/python3.10/dist-packages (from openai) (2.31.0)\n",
            "Requirement already satisfied: tqdm in /usr/local/lib/python3.10/dist-packages (from openai) (4.66.1)\n",
            "Requirement already satisfied: aiohttp in /usr/local/lib/python3.10/dist-packages (from openai) (3.8.5)\n",
            "Requirement already satisfied: charset-normalizer<4,>=2 in /usr/local/lib/python3.10/dist-packages (from requests>=2.20->openai) (3.2.0)\n",
            "Requirement already satisfied: idna<4,>=2.5 in /usr/local/lib/python3.10/dist-packages (from requests>=2.20->openai) (3.4)\n",
            "Requirement already satisfied: urllib3<3,>=1.21.1 in /usr/local/lib/python3.10/dist-packages (from requests>=2.20->openai) (2.0.4)\n",
            "Requirement already satisfied: certifi>=2017.4.17 in /usr/local/lib/python3.10/dist-packages (from requests>=2.20->openai) (2023.7.22)\n",
            "Requirement already satisfied: attrs>=17.3.0 in /usr/local/lib/python3.10/dist-packages (from aiohttp->openai) (23.1.0)\n",
            "Requirement already satisfied: multidict<7.0,>=4.5 in /usr/local/lib/python3.10/dist-packages (from aiohttp->openai) (6.0.4)\n",
            "Requirement already satisfied: async-timeout<5.0,>=4.0.0a3 in /usr/local/lib/python3.10/dist-packages (from aiohttp->openai) (4.0.3)\n",
            "Requirement already satisfied: yarl<2.0,>=1.0 in /usr/local/lib/python3.10/dist-packages (from aiohttp->openai) (1.9.2)\n",
            "Requirement already satisfied: frozenlist>=1.1.1 in /usr/local/lib/python3.10/dist-packages (from aiohttp->openai) (1.4.0)\n",
            "Requirement already satisfied: aiosignal>=1.1.2 in /usr/local/lib/python3.10/dist-packages (from aiohttp->openai) (1.3.1)\n"
          ]
        }
      ],
      "source": [
        "!pip install openai"
      ]
    },
    {
      "cell_type": "code",
      "source": [
        "import torch\n",
        "vers = torch.__version__\n",
        "print(\"Torch vers: \", vers)\n",
        "\n",
        "# PyG installation\n",
        "!pip install -q torch-scatter -f https://pytorch-geometric.com/whl/torch-${TORCH}+${CUDA}.html\n",
        "!pip install -q torch-sparse -f https://pytorch-geometric.com/whl/torch-${TORCH}+${CUDA}.html\n",
        "!pip install -q git+https://github.com/rusty1s/pytorch_geometric.git\n",
        "\n",
        "import torch_geometric"
      ],
      "metadata": {
        "colab": {
          "base_uri": "https://localhost:8080/"
        },
        "id": "j04I4p9O52jd",
        "outputId": "909ae298-6d95-4d9b-d5b2-2824b3e8df77"
      },
      "execution_count": 7,
      "outputs": [
        {
          "output_type": "stream",
          "name": "stdout",
          "text": [
            "Torch vers:  2.0.1+cu118\n",
            "  Installing build dependencies ... \u001b[?25l\u001b[?25hdone\n",
            "  Getting requirements to build wheel ... \u001b[?25l\u001b[?25hdone\n",
            "  Preparing metadata (pyproject.toml) ... \u001b[?25l\u001b[?25hdone\n"
          ]
        }
      ]
    },
    {
      "cell_type": "code",
      "source": [
        "!pip install ogb"
      ],
      "metadata": {
        "colab": {
          "base_uri": "https://localhost:8080/"
        },
        "id": "nFgkYCWz9Sz9",
        "outputId": "df918022-8556-400a-bef2-0a7234d4eb3f"
      },
      "execution_count": 8,
      "outputs": [
        {
          "output_type": "stream",
          "name": "stdout",
          "text": [
            "Requirement already satisfied: ogb in /usr/local/lib/python3.10/dist-packages (1.3.6)\n",
            "Requirement already satisfied: torch>=1.6.0 in /usr/local/lib/python3.10/dist-packages (from ogb) (2.0.1+cu118)\n",
            "Requirement already satisfied: numpy>=1.16.0 in /usr/local/lib/python3.10/dist-packages (from ogb) (1.23.5)\n",
            "Requirement already satisfied: tqdm>=4.29.0 in /usr/local/lib/python3.10/dist-packages (from ogb) (4.66.1)\n",
            "Requirement already satisfied: scikit-learn>=0.20.0 in /usr/local/lib/python3.10/dist-packages (from ogb) (1.2.2)\n",
            "Requirement already satisfied: pandas>=0.24.0 in /usr/local/lib/python3.10/dist-packages (from ogb) (1.5.3)\n",
            "Requirement already satisfied: six>=1.12.0 in /usr/local/lib/python3.10/dist-packages (from ogb) (1.16.0)\n",
            "Requirement already satisfied: urllib3>=1.24.0 in /usr/local/lib/python3.10/dist-packages (from ogb) (2.0.4)\n",
            "Requirement already satisfied: outdated>=0.2.0 in /usr/local/lib/python3.10/dist-packages (from ogb) (0.2.2)\n",
            "Requirement already satisfied: setuptools>=44 in /usr/local/lib/python3.10/dist-packages (from outdated>=0.2.0->ogb) (67.7.2)\n",
            "Requirement already satisfied: littleutils in /usr/local/lib/python3.10/dist-packages (from outdated>=0.2.0->ogb) (0.2.2)\n",
            "Requirement already satisfied: requests in /usr/local/lib/python3.10/dist-packages (from outdated>=0.2.0->ogb) (2.31.0)\n",
            "Requirement already satisfied: python-dateutil>=2.8.1 in /usr/local/lib/python3.10/dist-packages (from pandas>=0.24.0->ogb) (2.8.2)\n",
            "Requirement already satisfied: pytz>=2020.1 in /usr/local/lib/python3.10/dist-packages (from pandas>=0.24.0->ogb) (2023.3)\n",
            "Requirement already satisfied: scipy>=1.3.2 in /usr/local/lib/python3.10/dist-packages (from scikit-learn>=0.20.0->ogb) (1.10.1)\n",
            "Requirement already satisfied: joblib>=1.1.1 in /usr/local/lib/python3.10/dist-packages (from scikit-learn>=0.20.0->ogb) (1.3.2)\n",
            "Requirement already satisfied: threadpoolctl>=2.0.0 in /usr/local/lib/python3.10/dist-packages (from scikit-learn>=0.20.0->ogb) (3.2.0)\n",
            "Requirement already satisfied: filelock in /usr/local/lib/python3.10/dist-packages (from torch>=1.6.0->ogb) (3.12.2)\n",
            "Requirement already satisfied: typing-extensions in /usr/local/lib/python3.10/dist-packages (from torch>=1.6.0->ogb) (4.7.1)\n",
            "Requirement already satisfied: sympy in /usr/local/lib/python3.10/dist-packages (from torch>=1.6.0->ogb) (1.12)\n",
            "Requirement already satisfied: networkx in /usr/local/lib/python3.10/dist-packages (from torch>=1.6.0->ogb) (3.1)\n",
            "Requirement already satisfied: jinja2 in /usr/local/lib/python3.10/dist-packages (from torch>=1.6.0->ogb) (3.1.2)\n",
            "Requirement already satisfied: triton==2.0.0 in /usr/local/lib/python3.10/dist-packages (from torch>=1.6.0->ogb) (2.0.0)\n",
            "Requirement already satisfied: cmake in /usr/local/lib/python3.10/dist-packages (from triton==2.0.0->torch>=1.6.0->ogb) (3.27.2)\n",
            "Requirement already satisfied: lit in /usr/local/lib/python3.10/dist-packages (from triton==2.0.0->torch>=1.6.0->ogb) (16.0.6)\n",
            "Requirement already satisfied: MarkupSafe>=2.0 in /usr/local/lib/python3.10/dist-packages (from jinja2->torch>=1.6.0->ogb) (2.1.3)\n",
            "Requirement already satisfied: charset-normalizer<4,>=2 in /usr/local/lib/python3.10/dist-packages (from requests->outdated>=0.2.0->ogb) (3.2.0)\n",
            "Requirement already satisfied: idna<4,>=2.5 in /usr/local/lib/python3.10/dist-packages (from requests->outdated>=0.2.0->ogb) (3.4)\n",
            "Requirement already satisfied: certifi>=2017.4.17 in /usr/local/lib/python3.10/dist-packages (from requests->outdated>=0.2.0->ogb) (2023.7.22)\n",
            "Requirement already satisfied: mpmath>=0.19 in /usr/local/lib/python3.10/dist-packages (from sympy->torch>=1.6.0->ogb) (1.3.0)\n"
          ]
        }
      ]
    },
    {
      "cell_type": "code",
      "source": [
        "import os\n",
        "import collections\n",
        "import numpy as np\n",
        "import pandas as pd\n",
        "import matplotlib.pyplot as plt\n",
        "import seaborn as sns\n",
        "import scipy.sparse as sp\n",
        "import torch\n",
        "from torch import Tensor\n",
        "import torch_geometric\n",
        "from torch_geometric.utils import to_networkx\n",
        "from torch_geometric.datasets import Planetoid\n",
        "import networkx as nx\n",
        "from networkx.algorithms import community\n",
        "device = torch.device('cuda' if torch.cuda.is_available() else 'cpu')\n",
        "data_dir = \"./data\"\n",
        "os.makedirs(data_dir, exist_ok=True)"
      ],
      "metadata": {
        "id": "SCafn-o355Pr"
      },
      "execution_count": 9,
      "outputs": []
    },
    {
      "cell_type": "code",
      "source": [
        "dataset = Planetoid(root=data_dir, name='Cora')\n",
        "data = dataset[0]"
      ],
      "metadata": {
        "id": "oqNrjlDu6EVk"
      },
      "execution_count": 79,
      "outputs": []
    },
    {
      "cell_type": "code",
      "source": [
        "print(f'Number of nodes: {data.num_nodes}')\n",
        "# Number of nodes: 2708"
      ],
      "metadata": {
        "id": "0DcX3BirqfBT",
        "colab": {
          "base_uri": "https://localhost:8080/"
        },
        "outputId": "5d324483-1fea-4e52-cac5-2fdaaa3e41f7"
      },
      "execution_count": 81,
      "outputs": [
        {
          "output_type": "stream",
          "name": "stdout",
          "text": [
            "Number of nodes: 2708\n"
          ]
        }
      ]
    },
    {
      "cell_type": "code",
      "source": [
        "print(f'Number of edges: {data.num_edges}')\n",
        "# Number of edges: 10556"
      ],
      "metadata": {
        "colab": {
          "base_uri": "https://localhost:8080/"
        },
        "id": "OTdqFKFx9PHk",
        "outputId": "a3d95250-8265-4783-fc54-d872c2a404c6"
      },
      "execution_count": 82,
      "outputs": [
        {
          "output_type": "stream",
          "name": "stdout",
          "text": [
            "Number of edges: 10556\n"
          ]
        }
      ]
    },
    {
      "cell_type": "code",
      "source": [
        "print(f'Number of features: {data.num_node_features}')\n",
        "# Number of edge features: 0"
      ],
      "metadata": {
        "colab": {
          "base_uri": "https://localhost:8080/"
        },
        "id": "FD0j4NOYDO0c",
        "outputId": "d9640613-d1d0-42ec-ed9c-3a3239dbbfec"
      },
      "execution_count": 83,
      "outputs": [
        {
          "output_type": "stream",
          "name": "stdout",
          "text": [
            "Number of features: 1433\n"
          ]
        }
      ]
    },
    {
      "cell_type": "code",
      "source": [
        "print(f'Number of classes: {dataset.num_classes}')\n",
        "# Number of classes: 7"
      ],
      "metadata": {
        "colab": {
          "base_uri": "https://localhost:8080/"
        },
        "id": "f2ujGZxMDTvl",
        "outputId": "c2fd8eb2-f154-4d98-e150-643669ff4c2e"
      },
      "execution_count": 84,
      "outputs": [
        {
          "output_type": "stream",
          "name": "stdout",
          "text": [
            "Number of classes: 7\n"
          ]
        }
      ]
    },
    {
      "cell_type": "code",
      "source": [
        "label_dict = {\n",
        "    0: \"Theory\",\n",
        "    1: \"Reinforcement_Learning\",\n",
        "    2: \"Genetic_Algorithms\",\n",
        "    3: \"Neural_Networks\",\n",
        "    4: \"Probabilistic_Methods\",\n",
        "    5: \"Case_Based\",\n",
        "    6: \"Rule_Learning\"}\n",
        "data.y[:10]"
      ],
      "metadata": {
        "colab": {
          "base_uri": "https://localhost:8080/"
        },
        "id": "kXNFxWwADXCR",
        "outputId": "43538725-5810-42ec-ed06-c340f283f1c2"
      },
      "execution_count": 85,
      "outputs": [
        {
          "output_type": "execute_result",
          "data": {
            "text/plain": [
              "tensor([3, 4, 4, 0, 3, 2, 0, 3, 3, 2])"
            ]
          },
          "metadata": {},
          "execution_count": 85
        }
      ]
    },
    {
      "cell_type": "code",
      "source": [
        "counter = collections.Counter(data.y.numpy())\n",
        "counter = dict(counter)\n",
        "print(counter)\n",
        "count = [x[1] for x in sorted(counter.items())]\n",
        "plt.figure(figsize=(10, 6))\n",
        "plt.bar(range(7), count)\n",
        "plt.xlabel(\"class\", size=20)\n",
        "plt.show()"
      ],
      "metadata": {
        "colab": {
          "base_uri": "https://localhost:8080/",
          "height": 574
        },
        "id": "5b9lJseMDesV",
        "outputId": "d5ef3fc6-4e7f-45c5-98d9-79391515efb8"
      },
      "execution_count": 86,
      "outputs": [
        {
          "output_type": "stream",
          "name": "stdout",
          "text": [
            "{3: 818, 4: 426, 0: 351, 2: 418, 1: 217, 5: 298, 6: 180}\n"
          ]
        },
        {
          "output_type": "display_data",
          "data": {
            "text/plain": [
              "<Figure size 1000x600 with 1 Axes>"
            ],
            "image/png": "[encoded data removed]"
          },
          "metadata": {}
        }
      ]
    },
    {
      "cell_type": "code",
      "source": [
        "print(f'Has isolated nodes: {data.has_isolated_nodes()}')  # False\n",
        "print(f'Has self-loops: {data.has_self_loops()}')  # False\n",
        "print(f'Is undirected: {data.is_undirected()}')  # True"
      ],
      "metadata": {
        "colab": {
          "base_uri": "https://localhost:8080/"
        },
        "id": "ep2IqT3Q_xSY",
        "outputId": "6f7fcc12-76c4-4075-ac55-99fd139f7a0a"
      },
      "execution_count": 87,
      "outputs": [
        {
          "output_type": "stream",
          "name": "stdout",
          "text": [
            "Has isolated nodes: False\n",
            "Has self-loops: False\n",
            "Is undirected: True\n"
          ]
        }
      ]
    },
    {
      "cell_type": "code",
      "source": [
        "edge_index = data.edge_index.numpy()\n",
        "print(edge_index.shape)\n",
        "edge_example = edge_index[:, np.where(edge_index[0]==30)[0]]\n",
        "edge_example"
      ],
      "metadata": {
        "colab": {
          "base_uri": "https://localhost:8080/"
        },
        "id": "--M5QSLj_x7e",
        "outputId": "f50af912-9263-45cf-a1bd-1c328d8d53f8"
      },
      "execution_count": 88,
      "outputs": [
        {
          "output_type": "stream",
          "name": "stdout",
          "text": [
            "(2, 10556)\n"
          ]
        },
        {
          "output_type": "execute_result",
          "data": {
            "text/plain": [
              "array([[  30,   30,   30,   30,   30,   30],\n",
              "       [ 697,  738, 1358, 1416, 2162, 2343]])"
            ]
          },
          "metadata": {},
          "execution_count": 88
        }
      ]
    },
    {
      "cell_type": "code",
      "source": [
        "node_example = np.unique(edge_example.flatten())\n",
        "plt.figure(figsize=(10, 6))\n",
        "G = nx.Graph()\n",
        "G.add_nodes_from(node_example)\n",
        "G.add_edges_from(list(zip(edge_example[0], edge_example[1])))\n",
        "nx.draw_networkx(G, with_labels=False)"
      ],
      "metadata": {
        "colab": {
          "base_uri": "https://localhost:8080/",
          "height": 499
        },
        "id": "juTbZV0H_x-9",
        "outputId": "abde068e-6e35-4ea7-9841-21a925b9271d"
      },
      "execution_count": 89,
      "outputs": [
        {
          "output_type": "display_data",
          "data": {
            "text/plain": [
              "<Figure size 1000x600 with 1 Axes>"
            ],
            "image/png": "[encoded data removed]"
          },
          "metadata": {}
        }
      ]
    },
    {
      "cell_type": "code",
      "source": [
        "# Number of nodes to sample around\n",
        "num_nodes_to_sample = 10\n",
        "\n",
        "# List to store sampled graphs\n",
        "graph_list = []\n",
        "\n",
        "# Convert the PyG graph to NetworkX graph\n",
        "nx_graph = to_networkx(data, to_undirected=True)\n",
        "\n",
        "# Sample 10 nodes and create a graph centered around each node\n",
        "for center_node in range(num_nodes_to_sample):\n",
        "    sampled_subgraph = nx.ego_graph(nx_graph, center_node, radius=1, undirected=True)\n",
        "    graph_list.append(sampled_subgraph)\n",
        "\n",
        "# Print out the labels associated with each node in the graph list\n",
        "for i, graph in enumerate(graph_list):\n",
        "    print(f\"Graph {i+1} Node Labels:\")\n",
        "    for node in graph.nodes():\n",
        "        edge_list = list(graph.edges())\n",
        "\n",
        "        # Convert the edge list information into text\n",
        "        edgelist_converted = ''\n",
        "        for edge in edge_list:\n",
        "            source, target = edge\n",
        "            edgelist_converted += f'Node {source} is connected to Node {target}. '\n",
        "\n",
        "        label = data.y[node].item()  # Extract node label\n",
        "        print(f\"Node {node}: Label {label}\")\n",
        "    print(\"Edge list:\", edgelist_converted)\n",
        "    print(\"=\"*30)\n",
        "\n",
        "\n",
        "print(\"Converted edge list:\", edgelist_converted)"
      ],
      "metadata": {
        "colab": {
          "base_uri": "https://localhost:8080/"
        },
        "id": "5dxsPdhR_yBW",
        "outputId": "a1854da6-1d98-4df4-ce4e-9fc4f3bdb7aa"
      },
      "execution_count": 90,
      "outputs": [
        {
          "output_type": "stream",
          "name": "stdout",
          "text": [
            "Graph 1 Node Labels:\n",
            "Node 0: Label 3\n",
            "Node 633: Label 3\n",
            "Node 1862: Label 3\n",
            "Node 2582: Label 3\n",
            "Edge list: Node 0 is connected to Node 633. Node 0 is connected to Node 1862. Node 0 is connected to Node 2582. Node 1862 is connected to Node 2582. \n",
            "==============================\n",
            "Graph 2 Node Labels:\n",
            "Node 1: Label 4\n",
            "Node 2: Label 4\n",
            "Node 652: Label 4\n",
            "Node 654: Label 4\n",
            "Edge list: Node 1 is connected to Node 2. Node 1 is connected to Node 652. Node 1 is connected to Node 654. \n",
            "==============================\n",
            "Graph 3 Node Labels:\n",
            "Node 1: Label 4\n",
            "Node 2: Label 4\n",
            "Node 1666: Label 3\n",
            "Node 1986: Label 3\n",
            "Node 332: Label 3\n",
            "Node 1454: Label 4\n",
            "Edge list: Node 1 is connected to Node 2. Node 2 is connected to Node 332. Node 2 is connected to Node 1454. Node 2 is connected to Node 1666. Node 2 is connected to Node 1986. \n",
            "==============================\n",
            "Graph 4 Node Labels:\n",
            "Node 2544: Label 0\n",
            "Node 3: Label 0\n",
            "Edge list: Node 2544 is connected to Node 3. \n",
            "==============================\n",
            "Graph 5 Node Labels:\n",
            "Node 2176: Label 3\n",
            "Node 1761: Label 2\n",
            "Node 4: Label 3\n",
            "Node 1256: Label 3\n",
            "Node 1016: Label 3\n",
            "Node 2175: Label 2\n",
            "Edge list: Node 2176 is connected to Node 4. Node 2176 is connected to Node 1016. Node 2176 is connected to Node 1256. Node 2176 is connected to Node 2175. Node 1761 is connected to Node 4. Node 1761 is connected to Node 1256. Node 1761 is connected to Node 2175. Node 4 is connected to Node 1016. Node 4 is connected to Node 1256. Node 4 is connected to Node 2175. Node 1256 is connected to Node 1016. Node 1256 is connected to Node 2175. \n",
            "==============================\n",
            "Graph 6 Node Labels:\n",
            "Node 2546: Label 2\n",
            "Node 1659: Label 2\n",
            "Node 1629: Label 2\n",
            "Node 5: Label 2\n",
            "Edge list: Node 2546 is connected to Node 5. Node 1659 is connected to Node 5. Node 1659 is connected to Node 1629. Node 1629 is connected to Node 5. \n",
            "==============================\n",
            "Graph 7 Node Labels:\n",
            "Node 1602: Label 0\n",
            "Node 6: Label 0\n",
            "Node 1416: Label 0\n",
            "Node 1042: Label 0\n",
            "Node 373: Label 0\n",
            "Edge list: Node 1602 is connected to Node 6. Node 1602 is connected to Node 1416. Node 6 is connected to Node 373. Node 6 is connected to Node 1042. Node 6 is connected to Node 1416. Node 1042 is connected to Node 373. \n",
            "==============================\n",
            "Graph 8 Node Labels:\n",
            "Node 208: Label 3\n",
            "Node 7: Label 3\n",
            "Edge list: Node 208 is connected to Node 7. \n",
            "==============================\n",
            "Graph 9 Node Labels:\n",
            "Node 8: Label 3\n",
            "Node 281: Label 3\n",
            "Node 1996: Label 3\n",
            "Node 269: Label 3\n",
            "Edge list: Node 8 is connected to Node 269. Node 8 is connected to Node 281. Node 8 is connected to Node 1996. \n",
            "==============================\n",
            "Graph 10 Node Labels:\n",
            "Node 9: Label 2\n",
            "Node 723: Label 2\n",
            "Node 2614: Label 2\n",
            "Edge list: Node 9 is connected to Node 723. Node 9 is connected to Node 2614. Node 723 is connected to Node 2614. \n",
            "==============================\n",
            "Converted edge list: Node 9 is connected to Node 723. Node 9 is connected to Node 2614. Node 723 is connected to Node 2614. \n"
          ]
        }
      ]
    },
    {
      "cell_type": "code",
      "source": [
        "import matplotlib.pyplot as plt\n",
        "import networkx as nx\n",
        "\n",
        "# Get the 3rd graph from the list\n",
        "graph_to_visualize = graph_list[2]\n",
        "# Get the edge list as a list of tuples\n",
        "edge_list = list(graph_to_visualize.edges())\n",
        "\n",
        "print(\"Edge list:\", edge_list)\n",
        "\n",
        "# Convert the edge list information into text\n",
        "edgelist_converted = ''\n",
        "for edge in edge_list:\n",
        "    source, target = edge\n",
        "    edgelist_converted += f'Node {source} is connected to Node {target}. '\n",
        "\n",
        "print(\"Converted edge list:\", edgelist_converted)\n",
        "\n",
        "\n",
        "# Create a plot\n",
        "plt.figure(figsize=(8, 6))\n",
        "\n",
        "# Draw the graph using NetworkX's draw function\n",
        "pos = nx.spring_layout(graph_to_visualize, seed=42)  # Layout for node positions\n",
        "nx.draw(graph_to_visualize, pos, with_labels=True, node_size=200, font_size=10, font_color='black')\n",
        "\n",
        "# Set plot title\n",
        "plt.title(\"Visualization of the 3rd Graph\")\n",
        "\n",
        "# Show the plot\n",
        "plt.show()\n"
      ],
      "metadata": {
        "colab": {
          "base_uri": "https://localhost:8080/",
          "height": 715
        },
        "id": "0FTduXzq_yDf",
        "outputId": "37cc1504-731b-4949-f2fa-2301d62f6832"
      },
      "execution_count": 91,
      "outputs": [
        {
          "output_type": "stream",
          "name": "stdout",
          "text": [
            "Edge list: [(1, 2), (2, 332), (2, 1454), (2, 1666), (2, 1986)]\n",
            "Converted edge list: Node 1 is connected to Node 2. Node 2 is connected to Node 332. Node 2 is connected to Node 1454. Node 2 is connected to Node 1666. Node 2 is connected to Node 1986. \n"
          ]
        },
        {
          "output_type": "display_data",
          "data": {
            "text/plain": [
              "<Figure size 800x600 with 1 Axes>"
            ],
            "image/png": "[encoded data removed]"
          },
          "metadata": {}
        }
      ]
    },
    {
      "cell_type": "markdown",
      "source": [
        "### Prompting ###"
      ],
      "metadata": {
        "id": "s4KHVfU4DFIg"
      }
    },
    {
      "cell_type": "code",
      "source": [
        "import openai\n",
        "import os\n",
        "api_key = os.environ.get(\"OPENAI_API_KEY\")\n",
        "openai.api_key = api_key"
      ],
      "metadata": {
        "id": "H8Ixgd4bIkt_"
      },
      "execution_count": 92,
      "outputs": []
    },
    {
      "cell_type": "code",
      "source": [
        "def get_completion(prompt, model=\"gpt-3.5-turbo\"):\n",
        "    messages = [{\"role\": \"user\", \"content\": prompt}]\n",
        "    response = openai.ChatCompletion.create(\n",
        "        model=model,\n",
        "        messages=messages,\n",
        "        temperature=0, # this is the degree of randomness of the model's output\n",
        "    )\n",
        "    return response.choices[0].message[\"content\"]"
      ],
      "metadata": {
        "id": "uEcplCgU9PTD"
      },
      "execution_count": 93,
      "outputs": []
    },
    {
      "cell_type": "markdown",
      "source": [
        "CORA"
      ],
      "metadata": {
        "id": "wpX_aWy7UeOG"
      }
    },
    {
      "cell_type": "code",
      "source": [
        "text = f\"\"\"\n",
        "Graph 3 Node Labels:\n",
        "Node 1: Label 4\n",
        "Node 2: Label 4\n",
        "Node 1666: Label ?\n",
        "Node 1986: Label 3\n",
        "Node 332: Label 3\n",
        "Node 1454: Label 4\n",
        "Edge list: Node 1 is connected to Node 2. Node 2 is connected to Node 332. Node 2 is connected to Node 1454. Node 2 is connected to Node 1666. Node 2 is connected to Node 1986.\n",
        "\"\"\"\n",
        "prompt = f\"\"\"\n",
        "Task : Node Label Prediction (Predict the label of the node marked with a ?, in the format \"Label of Node = \" : <predicted label>) given the connectivity and label information in the text enclosed in triple backticks.\n",
        "```{text}```\n",
        "\"\"\"\n",
        "response = get_completion(prompt)\n",
        "print(response)"
      ],
      "metadata": {
        "colab": {
          "base_uri": "https://localhost:8080/"
        },
        "id": "jqwU-vFNrVgH",
        "outputId": "a89ec172-331c-4c46-bd60-a1db59dab450"
      },
      "execution_count": 94,
      "outputs": [
        {
          "output_type": "stream",
          "name": "stdout",
          "text": [
            "Label of Node 1666 = 4\n"
          ]
        }
      ]
    },
    {
      "cell_type": "code",
      "source": [
        "import random\n",
        "\n",
        "# Print out the labels associated with each node in the graph list\n",
        "for i, graph in enumerate(graph_list):\n",
        "    text = \"\"\n",
        "    ground_truth = \"\"\n",
        "    text += f\"Graph {i+1} Node Labels:\" + \"\\n\"\n",
        "\n",
        "    # Randomly choose a node to have a \"?\" label\n",
        "    node_with_question_mark = random.choice(list(graph.nodes()))\n",
        "\n",
        "    for node in graph.nodes():\n",
        "        edge_list = list(graph.edges())\n",
        "        # Convert the edge list information into text\n",
        "        edgelist_converted = ''\n",
        "        for edge in edge_list:\n",
        "            source, target = edge\n",
        "            edgelist_converted += f'Node {source} is connected to Node {target}. '\n",
        "\n",
        "        if node == node_with_question_mark:\n",
        "            ground_truth = data.y[node].item()\n",
        "            label = \"?\"\n",
        "        else:\n",
        "            label = data.y[node].item()  # Extract node label\n",
        "        text += f\"Node {node}: Label {label}\" + \"\\n\"\n",
        "\n",
        "    text += \"Edge list: \" + edgelist_converted + \"\\n\"\n",
        "    print(\"Ground_truth --\", ground_truth)\n",
        "    # print(\"Edge list:\", edgelist_converted)\n",
        "    print(text)\n",
        "    prompt = f\"\"\"\n",
        "    Task : Node Label Prediction (Predict the label of the node marked with a ?, in the format \"Label of Node = \" : <predicted label>) given the connectivity and label information in the text enclosed in triple backticks.\n",
        "    ```{text}```\n",
        "    \"\"\"\n",
        "    response = get_completion(prompt)\n",
        "    print(\"RESPONSE --> \", response)\n",
        "    print(\"=\"*30)\n"
      ],
      "metadata": {
        "colab": {
          "base_uri": "https://localhost:8080/"
        },
        "id": "aa8dBZCrJKUs",
        "outputId": "9e5806c3-d2c2-4f9c-e2e7-48847f32eb85"
      },
      "execution_count": 95,
      "outputs": [
        {
          "output_type": "stream",
          "name": "stdout",
          "text": [
            "Ground_truth -- 3\n",
            "Graph 1 Node Labels:\n",
            "Node 0: Label 3\n",
            "Node 633: Label 3\n",
            "Node 1862: Label 3\n",
            "Node 2582: Label ?\n",
            "Edge list: Node 0 is connected to Node 633. Node 0 is connected to Node 1862. Node 0 is connected to Node 2582. Node 1862 is connected to Node 2582. \n",
            "\n",
            "RESPONSE -->  Label of Node 2582 = Label 3\n",
            "==============================\n",
            "Ground_truth -- 4\n",
            "Graph 2 Node Labels:\n",
            "Node 1: Label 4\n",
            "Node 2: Label 4\n",
            "Node 652: Label ?\n",
            "Node 654: Label 4\n",
            "Edge list: Node 1 is connected to Node 2. Node 1 is connected to Node 652. Node 1 is connected to Node 654. \n",
            "\n",
            "RESPONSE -->  Label of Node 652 = 4\n",
            "==============================\n",
            "Ground_truth -- 3\n",
            "Graph 3 Node Labels:\n",
            "Node 1: Label 4\n",
            "Node 2: Label 4\n",
            "Node 1666: Label ?\n",
            "Node 1986: Label 3\n",
            "Node 332: Label 3\n",
            "Node 1454: Label 4\n",
            "Edge list: Node 1 is connected to Node 2. Node 2 is connected to Node 332. Node 2 is connected to Node 1454. Node 2 is connected to Node 1666. Node 2 is connected to Node 1986. \n",
            "\n",
            "RESPONSE -->  Label of Node 1666 = 4\n",
            "==============================\n",
            "Ground_truth -- 0\n",
            "Graph 4 Node Labels:\n",
            "Node 2544: Label 0\n",
            "Node 3: Label ?\n",
            "Edge list: Node 2544 is connected to Node 3. \n",
            "\n",
            "RESPONSE -->  Label of Node = 0\n",
            "==============================\n",
            "Ground_truth -- 3\n",
            "Graph 5 Node Labels:\n",
            "Node 2176: Label ?\n",
            "Node 1761: Label 2\n",
            "Node 4: Label 3\n",
            "Node 1256: Label 3\n",
            "Node 1016: Label 3\n",
            "Node 2175: Label 2\n",
            "Edge list: Node 2176 is connected to Node 4. Node 2176 is connected to Node 1016. Node 2176 is connected to Node 1256. Node 2176 is connected to Node 2175. Node 1761 is connected to Node 4. Node 1761 is connected to Node 1256. Node 1761 is connected to Node 2175. Node 4 is connected to Node 1016. Node 4 is connected to Node 1256. Node 4 is connected to Node 2175. Node 1256 is connected to Node 1016. Node 1256 is connected to Node 2175. \n",
            "\n",
            "RESPONSE -->  Based on the given connectivity and label information, we can predict the label of Node 2176.\n",
            "\n",
            "Node 2176 is connected to Node 4, Node 1016, Node 1256, and Node 2175. \n",
            "\n",
            "Among these connected nodes, Node 4, Node 1016, Node 1256, and Node 2175 have labels assigned to them. \n",
            "\n",
            "Node 4 has a label of 3, Node 1016 has a label of 3, Node 1256 has a label of 3, and Node 2175 has a label of 2. \n",
            "\n",
            "Since Node 2176 is connected to all these nodes, it is likely to have a label similar to the majority of its connected nodes. \n",
            "\n",
            "In this case, the majority label among the connected nodes is 3. \n",
            "\n",
            "Therefore, the predicted label of Node 2176 is:\n",
            "\n",
            "Label of Node 2176 = 3\n",
            "==============================\n",
            "Ground_truth -- 2\n",
            "Graph 6 Node Labels:\n",
            "Node 2546: Label 2\n",
            "Node 1659: Label 2\n",
            "Node 1629: Label ?\n",
            "Node 5: Label 2\n",
            "Edge list: Node 2546 is connected to Node 5. Node 1659 is connected to Node 5. Node 1659 is connected to Node 1629. Node 1629 is connected to Node 5. \n",
            "\n",
            "RESPONSE -->  Label of Node 1629 = 2\n",
            "==============================\n",
            "Ground_truth -- 0\n",
            "Graph 7 Node Labels:\n",
            "Node 1602: Label 0\n",
            "Node 6: Label 0\n",
            "Node 1416: Label 0\n",
            "Node 1042: Label 0\n",
            "Node 373: Label ?\n",
            "Edge list: Node 1602 is connected to Node 6. Node 1602 is connected to Node 1416. Node 6 is connected to Node 373. Node 6 is connected to Node 1042. Node 6 is connected to Node 1416. Node 1042 is connected to Node 373. \n",
            "\n",
            "RESPONSE -->  Label of Node 373 = 0\n",
            "==============================\n",
            "Ground_truth -- 3\n",
            "Graph 8 Node Labels:\n",
            "Node 208: Label 3\n",
            "Node 7: Label ?\n",
            "Edge list: Node 208 is connected to Node 7. \n",
            "\n",
            "RESPONSE -->  Label of Node = 3\n",
            "==============================\n",
            "Ground_truth -- 3\n",
            "Graph 9 Node Labels:\n",
            "Node 8: Label ?\n",
            "Node 281: Label 3\n",
            "Node 1996: Label 3\n",
            "Node 269: Label 3\n",
            "Edge list: Node 8 is connected to Node 269. Node 8 is connected to Node 281. Node 8 is connected to Node 1996. \n",
            "\n",
            "RESPONSE -->  Label of Node 8 = 3\n",
            "==============================\n",
            "Ground_truth -- 2\n",
            "Graph 10 Node Labels:\n",
            "Node 9: Label ?\n",
            "Node 723: Label 2\n",
            "Node 2614: Label 2\n",
            "Edge list: Node 9 is connected to Node 723. Node 9 is connected to Node 2614. Node 723 is connected to Node 2614. \n",
            "\n",
            "RESPONSE -->  Label of Node 9 = 2\n",
            "==============================\n"
          ]
        }
      ]
    },
    {
      "cell_type": "markdown",
      "source": [
        "OGBN- aRXIV"
      ],
      "metadata": {
        "id": "-igB-LwORYov"
      }
    },
    {
      "cell_type": "code",
      "source": [
        "import torch\n",
        "from ogb.nodeproppred import PygNodePropPredDataset\n",
        "from torch_geometric.utils import to_networkx\n",
        "import networkx as nx\n",
        "\n",
        "# Load the OGBN_ARXIV dataset\n",
        "dataset = PygNodePropPredDataset(name='ogbn-arxiv')\n",
        "\n",
        "# Get the graph\n",
        "graph = dataset[0]\n"
      ],
      "metadata": {
        "id": "ZLqsCXkWJKWo"
      },
      "execution_count": 96,
      "outputs": []
    },
    {
      "cell_type": "code",
      "source": [
        "graph"
      ],
      "metadata": {
        "colab": {
          "base_uri": "https://localhost:8080/"
        },
        "id": "VNfYWq5IgrCj",
        "outputId": "e814f1a3-e402-403f-81ca-638530cc640a"
      },
      "execution_count": 97,
      "outputs": [
        {
          "output_type": "execute_result",
          "data": {
            "text/plain": [
              "Data(num_nodes=169343, edge_index=[2, 1166243], x=[169343, 128], node_year=[169343, 1], y=[169343, 1])"
            ]
          },
          "metadata": {},
          "execution_count": 97
        }
      ]
    },
    {
      "cell_type": "code",
      "source": [
        "# Count the number of distinct y labels\n",
        "num_distinct_labels = torch.unique(graph.y).size(0)\n",
        "print(\"Total number of distinct y labels:\", num_distinct_labels)"
      ],
      "metadata": {
        "colab": {
          "base_uri": "https://localhost:8080/"
        },
        "id": "aEW2ncXkhibF",
        "outputId": "3ab9c92f-a5b0-4210-8ef4-7cc8fca821b2"
      },
      "execution_count": 98,
      "outputs": [
        {
          "output_type": "stream",
          "name": "stdout",
          "text": [
            "Total number of distinct y labels: 40\n"
          ]
        }
      ]
    },
    {
      "cell_type": "code",
      "source": [
        "print(f'Number of nodes: {graph.num_nodes}')\n",
        "# Number of nodes: 2708"
      ],
      "metadata": {
        "colab": {
          "base_uri": "https://localhost:8080/"
        },
        "id": "uz4vo-AuWSjd",
        "outputId": "0cd0795f-a1c8-4dd4-ca43-112dc924af36"
      },
      "execution_count": 99,
      "outputs": [
        {
          "output_type": "stream",
          "name": "stdout",
          "text": [
            "Number of nodes: 169343\n"
          ]
        }
      ]
    },
    {
      "cell_type": "code",
      "source": [
        "print(f'Number of edges: {graph.num_edges}')\n",
        "# Number of edges: 10556"
      ],
      "metadata": {
        "colab": {
          "base_uri": "https://localhost:8080/"
        },
        "id": "vulsmVgYWSqV",
        "outputId": "8250155e-e32b-43af-fd94-89a246c679e5"
      },
      "execution_count": 100,
      "outputs": [
        {
          "output_type": "stream",
          "name": "stdout",
          "text": [
            "Number of edges: 1166243\n"
          ]
        }
      ]
    },
    {
      "cell_type": "code",
      "source": [
        "print(f'Number of features: {graph.num_node_features}')\n",
        "print(f'Has isolated nodes: {graph.has_isolated_nodes()}')  # False\n",
        "print(f'Has self-loops: {graph.has_self_loops()}')  # False\n",
        "print(f'Is undirected: {graph.is_undirected()}')  # False"
      ],
      "metadata": {
        "colab": {
          "base_uri": "https://localhost:8080/"
        },
        "id": "MvpU1jFNWiPP",
        "outputId": "b66230ff-fd51-4ffa-ff8a-1b3724e5f35c"
      },
      "execution_count": 101,
      "outputs": [
        {
          "output_type": "stream",
          "name": "stdout",
          "text": [
            "Number of features: 128\n",
            "Has isolated nodes: False\n",
            "Has self-loops: False\n",
            "Is undirected: False\n"
          ]
        }
      ]
    },
    {
      "cell_type": "code",
      "source": [
        "# Count the occurrences of each y label\n",
        "label_counts = torch.bincount(graph.y.view(-1))\n",
        "\n",
        "# Create a bar chart with rotated x-axis labels\n",
        "plt.bar(range(len(label_counts)), label_counts.numpy())\n",
        "plt.xlabel('Y Label')\n",
        "plt.ylabel('Frequency')\n",
        "plt.title('Distribution of Y Labels')\n",
        "plt.xticks(range(len(label_counts)), rotation=90)  # Rotate x-axis labels\n",
        "plt.tight_layout()  # Adjust layout for better readability\n",
        "plt.show()"
      ],
      "metadata": {
        "colab": {
          "base_uri": "https://localhost:8080/",
          "height": 487
        },
        "id": "dVkE4RUlWieF",
        "outputId": "3ef6d006-e82a-42e5-fa01-610fdbd71e9a"
      },
      "execution_count": 102,
      "outputs": [
        {
          "output_type": "display_data",
          "data": {
            "text/plain": [
              "<Figure size 640x480 with 1 Axes>"
            ],
            "image/png": "[encoded data removed]"
          },
          "metadata": {}
        }
      ]
    },
    {
      "cell_type": "code",
      "source": [
        "# Create a dictionary to store y labels for each node in each subgraph\n",
        "y_labels_dict = {}\n",
        "\n",
        "# Sample 10 nodes randomly\n",
        "num_nodes_to_sample = 10\n",
        "sampled_indices = torch.randint(0, graph.num_nodes, (num_nodes_to_sample,))\n",
        "#print(sampled_indices)\n",
        "\n",
        "# Convert the PyG graph to NetworkX graph\n",
        "nx_graph = to_networkx(graph, to_undirected=True)\n",
        "\n",
        "# Convert sampled indices to integers, list of center nodes\n",
        "nx_ids = [int(node_id.item()) for node_id in sampled_indices]\n",
        "\n",
        "# Create a list to store ego graphs centered around sampled nodes\n",
        "graph_list = []\n",
        "\n",
        "# Sample 10 nodes and create a graph centered around each node\n",
        "for center_node in nx_ids:\n",
        "    sampled_subgraph = nx.ego_graph(nx_graph, center_node, radius=1, undirected=True)\n",
        "    y_labels_dict[center_node] = {}  # Initialize dictionary for this center node\n",
        "    for node in sampled_subgraph.nodes():\n",
        "        y_labels_dict[center_node][node] = graph.y[node].item()  # Store y label\n",
        "    graph_list.append(sampled_subgraph)\n"
      ],
      "metadata": {
        "id": "BNIiet_piw-B"
      },
      "execution_count": 103,
      "outputs": []
    },
    {
      "cell_type": "code",
      "source": [
        "print(y_labels_dict)"
      ],
      "metadata": {
        "colab": {
          "base_uri": "https://localhost:8080/"
        },
        "id": "CXMmyfoqrYE_",
        "outputId": "7abe3568-6efe-4246-adcc-2a0398d07c77"
      },
      "execution_count": 104,
      "outputs": [
        {
          "output_type": "stream",
          "name": "stdout",
          "text": [
            "{71576: {109198: 16, 129294: 16, 91922: 16, 86551: 16, 71576: 17, 146593: 16, 153897: 16, 75313: 16, 125362: 16, 135860: 16, 167239: 16, 119625: 17, 164435: 16, 75475: 16, 106204: 16, 160734: 17, 98272: 16, 130020: 16, 83813: 16, 160621: 16, 89075: 16, 105341: 16}, 126223: {11457: 28, 71036: 28, 126223: 28}, 168130: {108614: 22, 168130: 22, 48908: 20, 35806: 22}, 165257: {165257: 16, 166955: 24}, 98912: {98912: 24, 74290: 24, 64445: 24, 97223: 24}, 29623: {136644: 16, 29623: 16}, 162798: {3537: 34, 162798: 34}, 8594: {157123: 28, 145273: 28, 129133: 28, 59758: 28, 157681: 28, 8594: 28, 10705: 28, 47313: 28, 31893: 28, 139795: 28, 50521: 28, 16028: 28, 91453: 28}, 137668: {53538: 28, 57987: 28, 137668: 28, 87499: 8, 149848: 28}, 61443: {38944: 28, 61443: 28, 69956: 8}}\n"
          ]
        }
      ]
    },
    {
      "cell_type": "code",
      "source": [
        "# Iterate through the list of ego graphs and print attributes\n",
        "for idx, ego_graph in enumerate(graph_list):\n",
        "    text = \"\"\n",
        "    ground_truth = \"\"\n",
        "    text += f\"Ego Graph {idx+1} Attributes:\" + \"\\n\"\n",
        "\n",
        "    center_node = nx_ids[idx]  # Get the central node for this ego graph\n",
        "    text+= f\"Ego Graph {idx+1} - Central Node: \" + str(center_node) + \"\\n\"\n",
        "    #print(\"Total Number of nodes:\", ego_graph.number_of_nodes())\n",
        "    #print(\"Total Number of edges:\", ego_graph.number_of_edges())\n",
        "\n",
        "    # Randomly choose a node to have a \"?\" label\n",
        "    node_with_question_mark = random.choice(list(ego_graph.nodes()))\n",
        "    ground_truth = y_labels_dict[center_node][node_with_question_mark]\n",
        "    edge_list = list(ego_graph.edges())\n",
        "    text+=\"Ego graph Edgelist: \"+ str(edge_list)+\"\\n\"\n",
        "    text+=\"Ego graph node and label information : \"+\"\\n\"\n",
        "    for node in ego_graph.nodes():\n",
        "        if node == node_with_question_mark:\n",
        "            label = \"?\"\n",
        "        else:\n",
        "            label = y_labels_dict[center_node][node]\n",
        "\n",
        "        text += f\"Node {node}: Label {label}\" + \"\\n\"\n",
        "\n",
        "    #print(text)\n",
        "    #---- prompting ---\n",
        "    prompt = f\"\"\"\n",
        "    Task : Node Label Prediction (Predict the label of the node marked with a ?, in the format \"Label of Node = \" : <predicted label>) given the connectivity and label information in the text enclosed in triple backticks.\n",
        "    ```{text}```\n",
        "    \"\"\"\n",
        "    print(prompt)\n",
        "    response = get_completion(prompt)\n",
        "    print(\"*\"*30)\n",
        "    print(\"Node with ?\", node_with_question_mark, \"Ground Truth Label\", ground_truth)\n",
        "    print(\"*\"*30)\n",
        "    print(\"RESPONSE --> \", response)\n",
        "    print(\"=\"*30)"
      ],
      "metadata": {
        "colab": {
          "base_uri": "https://localhost:8080/"
        },
        "id": "DNKUdgZRoDOt",
        "outputId": "a75c67a7-1000-4080-f327-2bc07941d983"
      },
      "execution_count": 105,
      "outputs": [
        {
          "output_type": "stream",
          "name": "stdout",
          "text": [
            "\n",
            "    Task : Node Label Prediction (Predict the label of the node marked with a ?, in the format \"Label of Node = \" : <predicted label>) given the connectivity and label information in the text enclosed in triple backticks.\n",
            "    ```Ego Graph 1 Attributes:\n",
            "Ego Graph 1 - Central Node: 71576\n",
            "Ego graph Edgelist: [(109198, 167239), (109198, 160621), (109198, 160734), (109198, 146593), (109198, 71576), (129294, 71576), (91922, 130020), (91922, 160621), (91922, 71576), (86551, 98272), (86551, 106204), (86551, 75475), (86551, 71576), (71576, 98272), (71576, 89075), (71576, 106204), (71576, 164435), (71576, 130020), (71576, 153897), (71576, 167239), (71576, 83813), (71576, 160621), (71576, 119625), (71576, 160734), (71576, 105341), (71576, 146593), (71576, 135860), (71576, 75313), (71576, 125362), (71576, 75475), (146593, 105341), (146593, 75475), (153897, 105341), (153897, 125362), (125362, 130020), (135860, 130020), (167239, 160734), (167239, 105341), (167239, 75475), (164435, 106204), (75475, 98272), (75475, 83813), (75475, 160621), (75475, 160734), (75475, 105341), (106204, 89075), (98272, 89075), (98272, 83813), (160621, 105341)]\n",
            "Ego graph node and label information : \n",
            "Node 109198: Label 16\n",
            "Node 129294: Label 16\n",
            "Node 91922: Label ?\n",
            "Node 86551: Label 16\n",
            "Node 71576: Label 17\n",
            "Node 146593: Label 16\n",
            "Node 153897: Label 16\n",
            "Node 75313: Label 16\n",
            "Node 125362: Label 16\n",
            "Node 135860: Label 16\n",
            "Node 167239: Label 16\n",
            "Node 119625: Label 17\n",
            "Node 164435: Label 16\n",
            "Node 75475: Label 16\n",
            "Node 106204: Label 16\n",
            "Node 160734: Label 17\n",
            "Node 98272: Label 16\n",
            "Node 130020: Label 16\n",
            "Node 83813: Label 16\n",
            "Node 160621: Label 16\n",
            "Node 89075: Label 16\n",
            "Node 105341: Label 16\n",
            "```\n",
            "    \n",
            "******************************\n",
            "Node with ? 91922 Ground Truth Label 16\n",
            "******************************\n",
            "RESPONSE -->  Label of Node 91922 = 16\n",
            "==============================\n",
            "\n",
            "    Task : Node Label Prediction (Predict the label of the node marked with a ?, in the format \"Label of Node = \" : <predicted label>) given the connectivity and label information in the text enclosed in triple backticks.\n",
            "    ```Ego Graph 2 Attributes:\n",
            "Ego Graph 2 - Central Node: 126223\n",
            "Ego graph Edgelist: [(11457, 126223), (71036, 126223)]\n",
            "Ego graph node and label information : \n",
            "Node 11457: Label 28\n",
            "Node 71036: Label 28\n",
            "Node 126223: Label ?\n",
            "```\n",
            "    \n",
            "******************************\n",
            "Node with ? 126223 Ground Truth Label 28\n",
            "******************************\n",
            "RESPONSE -->  Label of Node = 28\n",
            "==============================\n",
            "\n",
            "    Task : Node Label Prediction (Predict the label of the node marked with a ?, in the format \"Label of Node = \" : <predicted label>) given the connectivity and label information in the text enclosed in triple backticks.\n",
            "    ```Ego Graph 3 Attributes:\n",
            "Ego Graph 3 - Central Node: 168130\n",
            "Ego graph Edgelist: [(108614, 168130), (168130, 35806), (168130, 48908)]\n",
            "Ego graph node and label information : \n",
            "Node 108614: Label ?\n",
            "Node 168130: Label 22\n",
            "Node 48908: Label 20\n",
            "Node 35806: Label 22\n",
            "```\n",
            "    \n",
            "******************************\n",
            "Node with ? 108614 Ground Truth Label 22\n",
            "******************************\n",
            "RESPONSE -->  Label of Node = 108614 : 22\n",
            "==============================\n",
            "\n",
            "    Task : Node Label Prediction (Predict the label of the node marked with a ?, in the format \"Label of Node = \" : <predicted label>) given the connectivity and label information in the text enclosed in triple backticks.\n",
            "    ```Ego Graph 4 Attributes:\n",
            "Ego Graph 4 - Central Node: 165257\n",
            "Ego graph Edgelist: [(165257, 166955)]\n",
            "Ego graph node and label information : \n",
            "Node 165257: Label ?\n",
            "Node 166955: Label 24\n",
            "```\n",
            "    \n",
            "******************************\n",
            "Node with ? 165257 Ground Truth Label 16\n",
            "******************************\n",
            "RESPONSE -->  Label of Node = 24\n",
            "==============================\n",
            "\n",
            "    Task : Node Label Prediction (Predict the label of the node marked with a ?, in the format \"Label of Node = \" : <predicted label>) given the connectivity and label information in the text enclosed in triple backticks.\n",
            "    ```Ego Graph 5 Attributes:\n",
            "Ego Graph 5 - Central Node: 98912\n",
            "Ego graph Edgelist: [(98912, 97223), (98912, 64445), (98912, 74290), (74290, 97223)]\n",
            "Ego graph node and label information : \n",
            "Node 98912: Label 24\n",
            "Node 74290: Label 24\n",
            "Node 64445: Label 24\n",
            "Node 97223: Label ?\n",
            "```\n",
            "    \n",
            "******************************\n",
            "Node with ? 97223 Ground Truth Label 24\n",
            "******************************\n",
            "RESPONSE -->  Label of Node 97223 = 24\n",
            "==============================\n",
            "\n",
            "    Task : Node Label Prediction (Predict the label of the node marked with a ?, in the format \"Label of Node = \" : <predicted label>) given the connectivity and label information in the text enclosed in triple backticks.\n",
            "    ```Ego Graph 6 Attributes:\n",
            "Ego Graph 6 - Central Node: 29623\n",
            "Ego graph Edgelist: [(136644, 29623)]\n",
            "Ego graph node and label information : \n",
            "Node 136644: Label 16\n",
            "Node 29623: Label ?\n",
            "```\n",
            "    \n",
            "******************************\n",
            "Node with ? 29623 Ground Truth Label 16\n",
            "******************************\n",
            "RESPONSE -->  Label of Node = 16\n",
            "==============================\n",
            "\n",
            "    Task : Node Label Prediction (Predict the label of the node marked with a ?, in the format \"Label of Node = \" : <predicted label>) given the connectivity and label information in the text enclosed in triple backticks.\n",
            "    ```Ego Graph 7 Attributes:\n",
            "Ego Graph 7 - Central Node: 162798\n",
            "Ego graph Edgelist: [(3537, 162798)]\n",
            "Ego graph node and label information : \n",
            "Node 3537: Label 34\n",
            "Node 162798: Label ?\n",
            "```\n",
            "    \n",
            "******************************\n",
            "Node with ? 162798 Ground Truth Label 34\n",
            "******************************\n",
            "RESPONSE -->  Label of Node 162798 = 34\n",
            "==============================\n",
            "\n",
            "    Task : Node Label Prediction (Predict the label of the node marked with a ?, in the format \"Label of Node = \" : <predicted label>) given the connectivity and label information in the text enclosed in triple backticks.\n",
            "    ```Ego Graph 8 Attributes:\n",
            "Ego Graph 8 - Central Node: 8594\n",
            "Ego graph Edgelist: [(157123, 8594), (145273, 59758), (145273, 50521), (145273, 91453), (145273, 16028), (145273, 129133), (145273, 8594), (129133, 50521), (129133, 31893), (129133, 8594), (59758, 8594), (157681, 47313), (157681, 8594), (8594, 50521), (8594, 91453), (8594, 31893), (8594, 16028), (8594, 10705), (8594, 47313), (8594, 139795)]\n",
            "Ego graph node and label information : \n",
            "Node 157123: Label 28\n",
            "Node 145273: Label 28\n",
            "Node 129133: Label 28\n",
            "Node 59758: Label 28\n",
            "Node 157681: Label 28\n",
            "Node 8594: Label 28\n",
            "Node 10705: Label 28\n",
            "Node 47313: Label 28\n",
            "Node 31893: Label 28\n",
            "Node 139795: Label 28\n",
            "Node 50521: Label 28\n",
            "Node 16028: Label 28\n",
            "Node 91453: Label ?\n",
            "```\n",
            "    \n",
            "******************************\n",
            "Node with ? 91453 Ground Truth Label 28\n",
            "******************************\n",
            "RESPONSE -->  Label of Node 91453 = 28\n",
            "==============================\n",
            "\n",
            "    Task : Node Label Prediction (Predict the label of the node marked with a ?, in the format \"Label of Node = \" : <predicted label>) given the connectivity and label information in the text enclosed in triple backticks.\n",
            "    ```Ego Graph 9 Attributes:\n",
            "Ego Graph 9 - Central Node: 137668\n",
            "Ego graph Edgelist: [(53538, 137668), (57987, 137668), (57987, 149848), (137668, 87499), (137668, 149848)]\n",
            "Ego graph node and label information : \n",
            "Node 53538: Label ?\n",
            "Node 57987: Label 28\n",
            "Node 137668: Label 28\n",
            "Node 87499: Label 8\n",
            "Node 149848: Label 28\n",
            "```\n",
            "    \n",
            "******************************\n",
            "Node with ? 53538 Ground Truth Label 28\n",
            "******************************\n",
            "RESPONSE -->  Label of Node 53538 = 28\n",
            "==============================\n",
            "\n",
            "    Task : Node Label Prediction (Predict the label of the node marked with a ?, in the format \"Label of Node = \" : <predicted label>) given the connectivity and label information in the text enclosed in triple backticks.\n",
            "    ```Ego Graph 10 Attributes:\n",
            "Ego Graph 10 - Central Node: 61443\n",
            "Ego graph Edgelist: [(38944, 61443), (61443, 69956)]\n",
            "Ego graph node and label information : \n",
            "Node 38944: Label ?\n",
            "Node 61443: Label 28\n",
            "Node 69956: Label 8\n",
            "```\n",
            "    \n",
            "******************************\n",
            "Node with ? 38944 Ground Truth Label 28\n",
            "******************************\n",
            "RESPONSE -->  Label of Node 38944 = 8\n",
            "==============================\n"
          ]
        }
      ]
    },
    {
      "cell_type": "markdown",
      "source": [
        "### Misc Prompting Examples ###"
      ],
      "metadata": {
        "id": "66XD74X_Ba8X"
      }
    },
    {
      "cell_type": "code",
      "source": [
        "prompt = f\"\"\"\n",
        "Generate a list of three made-up book titles along \\\n",
        "with their authors and genres.\n",
        "Provide them in JSON format with the following keys:\n",
        "book_id, title, author, genre.\n",
        "\"\"\"\n",
        "response = get_completion(prompt)\n",
        "print(response)"
      ],
      "metadata": {
        "colab": {
          "base_uri": "https://localhost:8080/"
        },
        "id": "GT8QNKyNrWLl",
        "outputId": "b3fc1670-2799-425a-df0e-86d2a7d33ac9"
      },
      "execution_count": null,
      "outputs": [
        {
          "output_type": "stream",
          "name": "stdout",
          "text": [
            "{\n",
            "  \"books\": [\n",
            "    {\n",
            "      \"book_id\": 1,\n",
            "      \"title\": \"The Enigma of Elysium\",\n",
            "      \"author\": \"Evelyn Sinclair\",\n",
            "      \"genre\": \"Mystery\"\n",
            "    },\n",
            "    {\n",
            "      \"book_id\": 2,\n",
            "      \"title\": \"Whispers in the Wind\",\n",
            "      \"author\": \"Nathaniel Blackwood\",\n",
            "      \"genre\": \"Fantasy\"\n",
            "    },\n",
            "    {\n",
            "      \"book_id\": 3,\n",
            "      \"title\": \"Echoes of the Past\",\n",
            "      \"author\": \"Amelia Hart\",\n",
            "      \"genre\": \"Romance\"\n",
            "    }\n",
            "  ]\n",
            "}\n"
          ]
        }
      ]
    },
    {
      "cell_type": "code",
      "source": [
        "text_1 = f\"\"\"\n",
        "Making a cup of tea is easy! First, you need to get some \\\n",
        "water boiling. While that's happening, \\\n",
        "grab a cup and put a tea bag in it. Once the water is \\\n",
        "hot enough, just pour it over the tea bag. \\\n",
        "Let it sit for a bit so the tea can steep. After a \\\n",
        "few minutes, take out the tea bag. If you \\\n",
        "like, you can add some sugar or milk to taste. \\\n",
        "And that's it! You've got yourself a delicious \\\n",
        "cup of tea to enjoy.\n",
        "\"\"\"\n",
        "prompt = f\"\"\"\n",
        "You will be provided with text delimited by triple quotes.\n",
        "If it contains a sequence of instructions, \\\n",
        "re-write those instructions in the following format:\n",
        "\n",
        "Step 1 - ...\n",
        "Step 2 - …\n",
        "…\n",
        "Step N - …\n",
        "\n",
        "If the text does not contain a sequence of instructions, \\\n",
        "then simply write \\\"No steps provided.\\\"\n",
        "\n",
        "\\\"\\\"\\\"{text_1}\\\"\\\"\\\"\n",
        "\"\"\"\n",
        "response = get_completion(prompt)\n",
        "print(\"Completion for Text 1:\")\n",
        "print(response)"
      ],
      "metadata": {
        "colab": {
          "base_uri": "https://localhost:8080/"
        },
        "id": "vLdD9e-BrWNt",
        "outputId": "1639116c-147d-4777-fae7-78b8dc4a560c"
      },
      "execution_count": null,
      "outputs": [
        {
          "output_type": "stream",
          "name": "stdout",
          "text": [
            "Completion for Text 1:\n",
            "Step 1 - Get some water boiling.\n",
            "Step 2 - Grab a cup and put a tea bag in it.\n",
            "Step 3 - Once the water is hot enough, pour it over the tea bag.\n",
            "Step 4 - Let it sit for a bit so the tea can steep.\n",
            "Step 5 - After a few minutes, take out the tea bag.\n",
            "Step 6 - If you like, add some sugar or milk to taste.\n",
            "Step 7 - Enjoy your delicious cup of tea.\n"
          ]
        }
      ]
    },
    {
      "cell_type": "code",
      "source": [
        "text_2 = f\"\"\"\n",
        "The sun is shining brightly today, and the birds are \\\n",
        "singing. It's a beautiful day to go for a \\\n",
        "walk in the park. The flowers are blooming, and the \\\n",
        "trees are swaying gently in the breeze. People \\\n",
        "are out and about, enjoying the lovely weather. \\\n",
        "Some are having picnics, while others are playing \\\n",
        "games or simply relaxing on the grass. It's a \\\n",
        "perfect day to spend time outdoors and appreciate the \\\n",
        "beauty of nature.\n",
        "\"\"\"\n",
        "prompt = f\"\"\"\n",
        "You will be provided with text delimited by triple quotes.\n",
        "If it contains a sequence of instructions, \\\n",
        "re-write those instructions in the following format:\n",
        "\n",
        "Step 1 - ...\n",
        "Step 2 - …\n",
        "…\n",
        "Step N - …\n",
        "\n",
        "If the text does not contain a sequence of instructions, \\\n",
        "then simply write \\\"No steps provided.\\\"\n",
        "\n",
        "\\\"\\\"\\\"{text_2}\\\"\\\"\\\"\n",
        "\"\"\"\n",
        "response = get_completion(prompt)\n",
        "print(\"Completion for Text 2:\")\n",
        "print(response)"
      ],
      "metadata": {
        "colab": {
          "base_uri": "https://localhost:8080/"
        },
        "id": "xMHpLc24sDgQ",
        "outputId": "1db82a6c-c23c-450a-92ee-26799e662d49"
      },
      "execution_count": null,
      "outputs": [
        {
          "output_type": "stream",
          "name": "stdout",
          "text": [
            "Completion for Text 2:\n",
            "No steps provided.\n"
          ]
        }
      ]
    },
    {
      "cell_type": "code",
      "source": [
        "prompt = f\"\"\"\n",
        "Your task is to answer in a consistent style.\n",
        "\n",
        "<child>: Teach me about patience.\n",
        "\n",
        "<grandparent>: The river that carves the deepest \\\n",
        "valley flows from a modest spring; the \\\n",
        "grandest symphony originates from a single note; \\\n",
        "the most intricate tapestry begins with a solitary thread.\n",
        "\n",
        "<child>: Teach me about resilience.\n",
        "\"\"\"\n",
        "response = get_completion(prompt)\n",
        "print(response)"
      ],
      "metadata": {
        "colab": {
          "base_uri": "https://localhost:8080/"
        },
        "id": "sDgtJEDushCu",
        "outputId": "3b634c2c-f478-4a48-ddfc-093ac1a5e30e"
      },
      "execution_count": null,
      "outputs": [
        {
          "output_type": "stream",
          "name": "stdout",
          "text": [
            "<grandparent>: Resilience is like a mighty oak tree that withstands the strongest storms, bending but never breaking. It is the unwavering determination to rise again after every fall, and the ability to find strength in the face of adversity. Just as a diamond is formed under immense pressure, resilience is forged through challenges and hardships, making us stronger and more resilient in the process.\n"
          ]
        }
      ]
    },
    {
      "cell_type": "code",
      "source": [
        "text = f\"\"\"\n",
        "In a charming village, siblings Jack and Jill set out on \\\n",
        "a quest to fetch water from a hilltop \\\n",
        "well. As they climbed, singing joyfully, misfortune \\\n",
        "struck—Jack tripped on a stone and tumbled \\\n",
        "down the hill, with Jill following suit. \\\n",
        "Though slightly battered, the pair returned home to \\\n",
        "comforting embraces. Despite the mishap, \\\n",
        "their adventurous spirits remained undimmed, and they \\\n",
        "continued exploring with delight.\n",
        "\"\"\"\n",
        "# example 1\n",
        "prompt_1 = f\"\"\"\n",
        "Perform the following actions:\n",
        "1 - Summarize the following text delimited by triple \\\n",
        "backticks with 1 sentence.\n",
        "2 - Translate the summary into French.\n",
        "3 - List each name in the French summary.\n",
        "4 - Output a json object that contains the following \\\n",
        "keys: french_summary, num_names.\n",
        "\n",
        "Separate your answers with line breaks.\n",
        "\n",
        "Text:\n",
        "```{text}```\n",
        "\"\"\"\n",
        "response = get_completion(prompt_1)\n",
        "print(\"Completion for prompt 1:\")\n",
        "print(response)"
      ],
      "metadata": {
        "colab": {
          "base_uri": "https://localhost:8080/"
        },
        "id": "61UFKz4qs4_V",
        "outputId": "4a24fcd8-2f51-496d-86ca-83307a044759"
      },
      "execution_count": null,
      "outputs": [
        {
          "output_type": "stream",
          "name": "stdout",
          "text": [
            "Completion for prompt 1:\n",
            "1 - Jack and Jill, siblings, go on a quest to fetch water from a hilltop well, but encounter misfortune along the way.\n",
            "2 - Jack et Jill, frère et sœur, partent à la recherche d'eau d'un puits au sommet d'une colline, mais rencontrent des malheurs en chemin.\n",
            "3 - Jack, Jill\n",
            "4 - {\n",
            "    \"french_summary\": \"Jack et Jill, frère et sœur, partent à la recherche d'eau d'un puits au sommet d'une colline, mais rencontrent des malheurs en chemin.\",\n",
            "    \"num_names\": 2\n",
            "}\n"
          ]
        }
      ]
    },
    {
      "cell_type": "code",
      "source": [
        "prompt_2 = f\"\"\"\n",
        "Your task is to perform the following actions:\n",
        "1 - Summarize the following text delimited by\n",
        "  <> with 1 sentence.\n",
        "2 - Translate the summary into French.\n",
        "3 - List each name in the French summary.\n",
        "4 - Output a json object that contains the\n",
        "  following keys: french_summary, num_names.\n",
        "\n",
        "Use the following format:\n",
        "Text: <text to summarize>\n",
        "Summary: <summary>\n",
        "Translation: <summary translation>\n",
        "Names: <list of names in Italian summary>\n",
        "Output JSON: <json with summary and num_names>\n",
        "\n",
        "Text: <{text}>\n",
        "\"\"\"\n",
        "response = get_completion(prompt_2)\n",
        "print(\"\\nCompletion for prompt 2:\")\n",
        "print(response)"
      ],
      "metadata": {
        "colab": {
          "base_uri": "https://localhost:8080/"
        },
        "id": "_qT2HY5ttLAl",
        "outputId": "1e53abd5-08d8-4782-c34f-2ae7d17671fd"
      },
      "execution_count": null,
      "outputs": [
        {
          "output_type": "stream",
          "name": "stdout",
          "text": [
            "\n",
            "Completion for prompt 2:\n",
            "Summary: Jack and Jill, siblings, go on a quest to fetch water from a hilltop well but encounter misfortune along the way.\n",
            "\n",
            "Translation: Jack et Jill, frère et sœur, partent en quête d'eau d'un puits au sommet d'une colline mais rencontrent des malheurs en chemin.\n",
            "\n",
            "Names: Jack, Jill\n",
            "\n",
            "Output JSON: {\"french_summary\": \"Jack et Jill, frère et sœur, partent en quête d'eau d'un puits au sommet d'une colline mais rencontrent des malheurs en chemin.\", \"num_names\": 2}\n"
          ]
        }
      ]
    },
    {
      "cell_type": "code",
      "source": [
        "prompt = f\"\"\"\n",
        "Determine if the student's solution is correct or not.\n",
        "\n",
        "Question:\n",
        "I'm building a solar power installation and I need \\\n",
        " help working out the financials.\n",
        "- Land costs $100 / square foot\n",
        "- I can buy solar panels for $250 / square foot\n",
        "- I negotiated a contract for maintenance that will cost \\\n",
        "me a flat $100k per year, and an additional $10 / square \\\n",
        "foot\n",
        "What is the total cost for the first year of operations\n",
        "as a function of the number of square feet.\n",
        "\n",
        "Student's Solution:\n",
        "Let x be the size of the installation in square feet.\n",
        "Costs:\n",
        "1. Land cost: 100x\n",
        "2. Solar panel cost: 250x\n",
        "3. Maintenance cost: 100,000 + 100x\n",
        "Total cost: 100x + 250x + 100,000 + 100x = 450x + 100,000\n",
        "\"\"\"\n",
        "response = get_completion(prompt)\n",
        "print(response)"
      ],
      "metadata": {
        "colab": {
          "base_uri": "https://localhost:8080/"
        },
        "id": "MY-GlRh_tXFu",
        "outputId": "9054a886-9cc4-4b46-94cd-0751971e1772"
      },
      "execution_count": null,
      "outputs": [
        {
          "output_type": "stream",
          "name": "stdout",
          "text": [
            "The student's solution is correct. They correctly identified the costs for land, solar panels, and maintenance, and calculated the total cost as a function of the number of square feet.\n"
          ]
        }
      ]
    },
    {
      "cell_type": "code",
      "source": [
        "prompt = f\"\"\"\n",
        "Your task is to determine if the student's solution \\\n",
        "is correct or not.\n",
        "To solve the problem do the following:\n",
        "- First, work out your own solution to the problem.\n",
        "- Then compare your solution to the student's solution \\\n",
        "and evaluate if the student's solution is correct or not.\n",
        "Don't decide if the student's solution is correct until\n",
        "you have done the problem yourself.\n",
        "\n",
        "Use the following format:\n",
        "Question:\n",
        "```\n",
        "question here\n",
        "```\n",
        "Student's solution:\n",
        "```\n",
        "student's solution here\n",
        "```\n",
        "Actual solution:\n",
        "```\n",
        "steps to work out the solution and your solution here\n",
        "```\n",
        "Is the student's solution the same as actual solution \\\n",
        "just calculated:\n",
        "```\n",
        "yes or no\n",
        "```\n",
        "Student grade:\n",
        "```\n",
        "correct or incorrect\n",
        "```\n",
        "\n",
        "Question:\n",
        "```\n",
        "I'm building a solar power installation and I need help \\\n",
        "working out the financials.\n",
        "- Land costs $100 / square foot\n",
        "- I can buy solar panels for $250 / square foot\n",
        "- I negotiated a contract for maintenance that will cost \\\n",
        "me a flat $100k per year, and an additional $10 / square \\\n",
        "foot\n",
        "What is the total cost for the first year of operations \\\n",
        "as a function of the number of square feet.\n",
        "```\n",
        "Student's solution:\n",
        "```\n",
        "Let x be the size of the installation in square feet.\n",
        "Costs:\n",
        "1. Land cost: 100x\n",
        "2. Solar panel cost: 250x\n",
        "3. Maintenance cost: 100,000 + 100x\n",
        "Total cost: 100x + 250x + 100,000 + 100x = 450x + 100,000\n",
        "```\n",
        "Actual solution:\n",
        "\"\"\"\n",
        "response = get_completion(prompt)\n",
        "print(response)"
      ],
      "metadata": {
        "colab": {
          "base_uri": "https://localhost:8080/"
        },
        "id": "e85jCS8Yt7ae",
        "outputId": "27a21cdf-cf4f-4e6b-d638-da8e371f91ea"
      },
      "execution_count": null,
      "outputs": [
        {
          "output_type": "stream",
          "name": "stdout",
          "text": [
            "To calculate the total cost for the first year of operations, we need to add up the costs of land, solar panels, and maintenance.\n",
            "\n",
            "Let x be the size of the installation in square feet.\n",
            "\n",
            "Costs:\n",
            "1. Land cost: $100 * x\n",
            "2. Solar panel cost: $250 * x\n",
            "3. Maintenance cost: $100,000 + $10 * x\n",
            "\n",
            "Total cost: $100 * x + $250 * x + $100,000 + $10 * x = $360 * x + $100,000\n",
            "\n",
            "Is the student's solution the same as the actual solution just calculated:\n",
            "Yes\n",
            "\n",
            "Student grade:\n",
            "Correct\n"
          ]
        }
      ]
    },
    {
      "cell_type": "code",
      "source": [
        "prompt = f\"\"\"\n",
        "Tell me about AeroGlide UltraSlim Smart Toothbrush by Boie\n",
        "\"\"\"\n",
        "response = get_completion(prompt)\n",
        "print(response)"
      ],
      "metadata": {
        "colab": {
          "base_uri": "https://localhost:8080/"
        },
        "id": "wlpHd1t3uUWh",
        "outputId": "478d0395-4eeb-476a-f40c-188f74db5fb1"
      },
      "execution_count": null,
      "outputs": [
        {
          "output_type": "stream",
          "name": "stdout",
          "text": [
            "The AeroGlide UltraSlim Smart Toothbrush by Boie is a technologically advanced toothbrush designed to provide a superior brushing experience. Boie is a company known for its innovative oral care products, and the AeroGlide UltraSlim Smart Toothbrush is no exception.\n",
            "\n",
            "One of the standout features of this toothbrush is its ultra-slim design. The brush head is only 2mm thick, making it much thinner than traditional toothbrushes. This slim profile allows for better access to hard-to-reach areas of the mouth, ensuring a thorough and effective clean.\n",
            "\n",
            "The AeroGlide UltraSlim Smart Toothbrush also incorporates smart technology. It connects to a mobile app via Bluetooth, allowing users to track their brushing habits and receive personalized recommendations for improving their oral hygiene routine. The app provides real-time feedback on brushing technique, duration, and coverage, helping users to achieve optimal oral health.\n",
            "\n",
            "The toothbrush features soft, antimicrobial bristles made from a durable thermoplastic elastomer. These bristles are gentle on the gums and teeth, while also being effective at removing plaque and debris. The antimicrobial properties of the bristles help to inhibit the growth of bacteria, keeping the brush clean and hygienic.\n",
            "\n",
            "In terms of battery life, the AeroGlide UltraSlim Smart Toothbrush boasts an impressive 30-day battery life on a single charge. This makes it convenient for travel and ensures that users don't have to worry about constantly recharging their toothbrush.\n",
            "\n",
            "Overall, the AeroGlide UltraSlim Smart Toothbrush by Boie offers a combination of advanced technology, sleek design, and effective cleaning. It is a great option for those looking to upgrade their oral care routine and achieve a healthier smile.\n"
          ]
        }
      ]
    },
    {
      "cell_type": "markdown",
      "source": [],
      "metadata": {
        "id": "D2Z_8yK3t6vF"
      }
    }
  ]
}